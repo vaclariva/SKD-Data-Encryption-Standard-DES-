{
 "cells": [
  {
   "cell_type": "code",
   "execution_count": 5,
   "id": "31273d7d",
   "metadata": {},
   "outputs": [
    {
     "name": "stdout",
     "output_type": "stream",
     "text": [
      "Enter the 8-byte DES key (ASCII characters): indonesia\n",
      "Key is longer than 8 characters. Truncating to 8 characters.\n",
      "Enter the message: clariva\n",
      "Original Message:  clariva\n",
      "Encrypted Message:  b'\\xe4\\x0b),\\x01\\xc7\\xd2\\x9c'\n",
      "Decrypted Message:  clariva\n"
     ]
    }
   ],
   "source": [
    "# Clariva Meydieta Widagdo\n",
    "# V3922012\n",
    "# TI D\n",
    "\n",
    "# impor modul yang diperlukan dari pycryptodome\n",
    "from Crypto.Cipher import DES\n",
    "from Crypto.Util.Padding import pad, unpad\n",
    "from Crypto.Random import get_random_bytes\n",
    "\n",
    "# memasukkan kunci DES dengan panjang 8-byte dalam bentuk karakter  ASCII\n",
    "key_input = input(\"Enter the 8-byte DES key (ASCII characters): \")\n",
    "if len(key_input) < 8: # jika kunci yang dimasukkan kurang dari 8-byte\n",
    "    print(\"Key is less than 8 characters. Padding with spaces.\") # maka akan muncul peringatan \n",
    "    key_input = key_input.ljust(8) # program tetap berjalan dengan solusi program menambahkan spasi untuk memenuhi panjang karakter menjadi 8-byte\n",
    "\n",
    "if len(key_input) > 8: # jika kunci yang dimasukkan lebih dari 8-byte\n",
    "    print(\"Key is longer than 8 characters. Truncating to 8 characters.\") # maka akan muncul peringatan \n",
    "    key_input = key_input[:8] # program tetap berjalan dengan solusi mengambil 8 karakter utama saja yang digunakan\n",
    "\n",
    "key = key_input.encode() # konfersi inputan string menjadi bentuk byte\n",
    "\n",
    "BLOCK_SIZE = 8 # menentukan ukuran block sepanjang 8-byte\n",
    "\n",
    "# membuat objek kriptografi yang akan digunakan untuk melakukan enkripsi dan dekripsi\n",
    "des = DES.new(key, DES.MODE_ECB)\n",
    "\n",
    "# masukkan pesan\n",
    "message = input(\"Enter the message: \")\n",
    "\n",
    "message_bytes = message.encode() # mengambil input teks dari massage\n",
    "padded_message = pad(message_bytes, BLOCK_SIZE) #  menambahkan padding/byte di massage\n",
    "\n",
    "#  mengenkripsi pesan yang telah di-padding menggunakan algoritma DES\n",
    "encrypted_message = des.encrypt(padded_message)\n",
    "\n",
    "print(\"Original Message: \", message) # mencetak plaintext / pesan asli\n",
    "print(\"Encrypted Message: \", encrypted_message) # mencetak chipertext / pesan enkripsi\n",
    "\n",
    "# membuat objek kriptograpy dengan kunci yang sama dengan inputan awal\n",
    "des = DES.new(key, DES.MODE_ECB) \n",
    "decrypted_message = des.decrypt(encrypted_message) # mendeskripsi pesan  \n",
    "\n",
    "# menghilangkan padding (penambahan byte) saat plainteks dipadd sebelum dienkripsi\n",
    "unpadded_message = unpad(decrypted_message, BLOCK_SIZE)\n",
    "decrypted_text = unpadded_message.decode() # mendeskripsi pesan yang sudah di unpadd\n",
    "\n",
    "print(\"Decrypted Message: \", decrypted_text) # mencetak hasil deskripsi pesan"
   ]
  },
  {
   "cell_type": "code",
   "execution_count": null,
   "id": "5411c41f",
   "metadata": {},
   "outputs": [],
   "source": []
  }
 ],
 "metadata": {
  "kernelspec": {
   "display_name": "Python 3 (ipykernel)",
   "language": "python",
   "name": "python3"
  },
  "language_info": {
   "codemirror_mode": {
    "name": "ipython",
    "version": 3
   },
   "file_extension": ".py",
   "mimetype": "text/x-python",
   "name": "python",
   "nbconvert_exporter": "python",
   "pygments_lexer": "ipython3",
   "version": "3.11.4"
  }
 },
 "nbformat": 4,
 "nbformat_minor": 5
}
